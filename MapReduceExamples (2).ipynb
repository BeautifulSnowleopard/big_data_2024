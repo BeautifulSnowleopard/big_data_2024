{
  "cells": [
    {
      "cell_type": "markdown",
      "metadata": {
        "id": "82OvPKEiEqjc"
      },
      "source": [
        "# Введение в MapReduce модель на Python\n"
      ]
    },
    {
      "cell_type": "code",
      "execution_count": 48,
      "metadata": {
        "id": "JQ2cvXLjICmI"
      },
      "outputs": [],
      "source": [
        "# requires python 3.6+\n",
        "from typing import NamedTuple\n",
        "from typing import Iterator"
      ]
    },
    {
      "cell_type": "code",
      "execution_count": 49,
      "metadata": {
        "id": "yjPHumVwEyEg"
      },
      "outputs": [],
      "source": [
        "def MAP(_, row: NamedTuple):\n",
        "    if row.gender == \"female\":\n",
        "        yield (row.age, row)\n",
        "\n",
        "\n",
        "def REDUCE(age: str, rows: Iterator[NamedTuple]):\n",
        "    summ = 0\n",
        "    count = 0\n",
        "    for row in rows:\n",
        "        summ += row.social_contacts\n",
        "        count += 1\n",
        "    if count > 0:\n",
        "        yield (age, summ / count)\n",
        "    else:\n",
        "        yield (age, 0)"
      ]
    },
    {
      "cell_type": "markdown",
      "metadata": {
        "id": "vBKMgpG_ilaZ"
      },
      "source": [
        "Модель элемента данных"
      ]
    },
    {
      "cell_type": "code",
      "execution_count": 50,
      "metadata": {
        "id": "Rv-XIjhTJPx3"
      },
      "outputs": [],
      "source": [
        "class User(NamedTuple):\n",
        "    id: int\n",
        "    age: str\n",
        "    social_contacts: int\n",
        "    gender: str"
      ]
    },
    {
      "cell_type": "code",
      "execution_count": 51,
      "metadata": {
        "id": "5KV0Ze2vQgu5"
      },
      "outputs": [],
      "source": [
        "input_collection = [\n",
        "    User(id=0, age=55, gender=\"male\", social_contacts=20),\n",
        "    User(id=1, age=25, gender=\"female\", social_contacts=240),\n",
        "    User(id=2, age=25, gender=\"female\", social_contacts=500),\n",
        "    User(id=3, age=33, gender=\"female\", social_contacts=800),\n",
        "]"
      ]
    },
    {
      "cell_type": "markdown",
      "metadata": {
        "id": "YFeqzyZxZIFZ"
      },
      "source": [
        "Функция RECORDREADER моделирует чтение элементов с диска или по сети."
      ]
    },
    {
      "cell_type": "code",
      "execution_count": 52,
      "metadata": {
        "id": "S5HR4E_GQoMJ"
      },
      "outputs": [],
      "source": [
        "def RECORDREADER():\n",
        "    return [(u.id, u) for u in input_collection]"
      ]
    },
    {
      "cell_type": "code",
      "execution_count": 53,
      "metadata": {
        "colab": {
          "base_uri": "https://localhost:8080/",
          "height": 85
        },
        "id": "NeEoWla-ROUy",
        "outputId": "94ca6e0e-4644-4282-acbf-1759d7ba2918"
      },
      "outputs": [
        {
          "data": {
            "text/plain": [
              "[(0, User(id=0, age=55, social_contacts=20, gender='male')),\n",
              " (1, User(id=1, age=25, social_contacts=240, gender='female')),\n",
              " (2, User(id=2, age=25, social_contacts=500, gender='female')),\n",
              " (3, User(id=3, age=33, social_contacts=800, gender='female'))]"
            ]
          },
          "execution_count": 53,
          "metadata": {},
          "output_type": "execute_result"
        }
      ],
      "source": [
        "list(RECORDREADER())"
      ]
    },
    {
      "cell_type": "code",
      "execution_count": 54,
      "metadata": {
        "id": "YB8orgPSZs8M"
      },
      "outputs": [],
      "source": [
        "def flatten(nested_iterable):\n",
        "    for iterable in nested_iterable:\n",
        "        for element in iterable:\n",
        "            yield element"
      ]
    },
    {
      "cell_type": "code",
      "execution_count": 55,
      "metadata": {
        "colab": {
          "base_uri": "https://localhost:8080/",
          "height": 68
        },
        "id": "74oyvDLaRmd5",
        "outputId": "c6147702-7153-47c7-a574-d5fe6abe29a8"
      },
      "outputs": [
        {
          "data": {
            "text/plain": [
              "[(25, User(id=1, age=25, social_contacts=240, gender='female')),\n",
              " (25, User(id=2, age=25, social_contacts=500, gender='female')),\n",
              " (33, User(id=3, age=33, social_contacts=800, gender='female'))]"
            ]
          },
          "execution_count": 55,
          "metadata": {},
          "output_type": "execute_result"
        }
      ],
      "source": [
        "map_output = flatten(map(lambda x: MAP(*x), RECORDREADER()))\n",
        "map_output = list(map_output)  # materialize\n",
        "map_output"
      ]
    },
    {
      "cell_type": "code",
      "execution_count": 56,
      "metadata": {
        "id": "8ncYDJ3-VzDn"
      },
      "outputs": [],
      "source": [
        "def groupbykey(iterable):\n",
        "    t = {}\n",
        "    for k2, v2 in iterable:\n",
        "        t[k2] = t.get(k2, []) + [v2]\n",
        "    return t.items()"
      ]
    },
    {
      "cell_type": "code",
      "execution_count": 57,
      "metadata": {
        "colab": {
          "base_uri": "https://localhost:8080/",
          "height": 85
        },
        "id": "cKzY_6COWOA2",
        "outputId": "e6791b12-e409-47e9-bcd4-e9f8ca8611bd"
      },
      "outputs": [
        {
          "data": {
            "text/plain": [
              "[(25,\n",
              "  [User(id=1, age=25, social_contacts=240, gender='female'),\n",
              "   User(id=2, age=25, social_contacts=500, gender='female')]),\n",
              " (33, [User(id=3, age=33, social_contacts=800, gender='female')])]"
            ]
          },
          "execution_count": 57,
          "metadata": {},
          "output_type": "execute_result"
        }
      ],
      "source": [
        "shuffle_output = groupbykey(map_output)\n",
        "shuffle_output = list(shuffle_output)\n",
        "shuffle_output"
      ]
    },
    {
      "cell_type": "code",
      "execution_count": 58,
      "metadata": {
        "colab": {
          "base_uri": "https://localhost:8080/",
          "height": 34
        },
        "id": "NlA7lkDDYL0t",
        "outputId": "6b25d03f-5c92-4f3b-f500-6d70acd598b7"
      },
      "outputs": [
        {
          "data": {
            "text/plain": [
              "[(25, 370.0), (33, 800.0)]"
            ]
          },
          "execution_count": 58,
          "metadata": {},
          "output_type": "execute_result"
        }
      ],
      "source": [
        "reduce_output = flatten(map(lambda x: REDUCE(*x), shuffle_output))\n",
        "reduce_output = list(reduce_output)\n",
        "reduce_output"
      ]
    },
    {
      "cell_type": "markdown",
      "metadata": {
        "id": "xf6qhHEtd6bI"
      },
      "source": [
        "Все действия одним конвейером!"
      ]
    },
    {
      "cell_type": "code",
      "execution_count": 59,
      "metadata": {
        "colab": {
          "base_uri": "https://localhost:8080/",
          "height": 34
        },
        "id": "dZaQGYxCdpw5",
        "outputId": "3f5c6425-e5c5-49d2-b2cd-ce58a9acc33c"
      },
      "outputs": [
        {
          "data": {
            "text/plain": [
              "[(25, 370.0), (33, 800.0)]"
            ]
          },
          "execution_count": 59,
          "metadata": {},
          "output_type": "execute_result"
        }
      ],
      "source": [
        "list(\n",
        "    flatten(\n",
        "        map(\n",
        "            lambda x: REDUCE(*x),\n",
        "            groupbykey(flatten(map(lambda x: MAP(*x), RECORDREADER()))),\n",
        "        )\n",
        "    )\n",
        ")"
      ]
    },
    {
      "cell_type": "markdown",
      "metadata": {
        "id": "Vq3EWRIpwSiJ"
      },
      "source": [
        "# **MapReduce**\n",
        "Выделим общую для всех пользователей часть системы в отдельную функцию высшего порядка. Это наиболее простая модель MapReduce, без учёта распределённого хранения данных. \n",
        "\n",
        "Пользователь для решения своей задачи реализует RECORDREADER, MAP, REDUCE."
      ]
    },
    {
      "cell_type": "code",
      "execution_count": 60,
      "metadata": {
        "id": "V1PZeQMwwVjc"
      },
      "outputs": [],
      "source": [
        "def flatten(nested_iterable):\n",
        "    for iterable in nested_iterable:\n",
        "        for element in iterable:\n",
        "            yield element\n",
        "\n",
        "\n",
        "def groupbykey(iterable):\n",
        "    t = {}\n",
        "    for k2, v2 in iterable:\n",
        "        t[k2] = t.get(k2, []) + [v2]\n",
        "    return t.items()\n",
        "\n",
        "\n",
        "def MapReduce(RECORDREADER, MAP, REDUCE):\n",
        "    return flatten(\n",
        "        map(\n",
        "            lambda x: REDUCE(*x),\n",
        "            groupbykey(flatten(map(lambda x: MAP(*x), RECORDREADER()))),\n",
        "        )\n",
        "    )"
      ]
    },
    {
      "cell_type": "markdown",
      "metadata": {
        "id": "iFIVrimep678"
      },
      "source": [
        "## Спецификация MapReduce\n",
        "\n",
        "\n",
        "\n",
        "```\n",
        "f (k1, v1) -> (k2,v2)*\n",
        "g (k2, v2*) -> (k3,v3)*\n",
        " \n",
        "mapreduce ((k1,v1)*) -> (k3,v3)*\n",
        "groupby ((k2,v2)*) -> (k2,v2*)*\n",
        "flatten (e2**) -> e2*\n",
        " \n",
        "mapreduce .map(f).flatten.groupby(k2).map(g).flatten\n",
        "```\n",
        "\n",
        "\n"
      ]
    },
    {
      "cell_type": "markdown",
      "metadata": {
        "id": "QtTFyqke3KGe"
      },
      "source": [
        "# Примеры"
      ]
    },
    {
      "cell_type": "markdown",
      "metadata": {
        "id": "BNhh5763w5Vn"
      },
      "source": [
        "## SQL "
      ]
    },
    {
      "cell_type": "code",
      "execution_count": 61,
      "metadata": {
        "colab": {
          "base_uri": "https://localhost:8080/",
          "height": 34
        },
        "id": "QkyurnvGxBGk",
        "outputId": "84761282-d2ba-435a-e8d7-a85150730e10"
      },
      "outputs": [
        {
          "data": {
            "text/plain": [
              "[(25, 370.0), (33, 800.0)]"
            ]
          },
          "execution_count": 61,
          "metadata": {},
          "output_type": "execute_result"
        }
      ],
      "source": [
        "# requires python 3.6+\n",
        "from typing import NamedTuple\n",
        "from typing import Iterator\n",
        "\n",
        "\n",
        "class User(NamedTuple):\n",
        "    id: int\n",
        "    age: str\n",
        "    social_contacts: int\n",
        "    gender: str\n",
        "\n",
        "\n",
        "input_collection = [\n",
        "    User(id=0, age=55, gender=\"male\", social_contacts=20),\n",
        "    User(id=1, age=25, gender=\"female\", social_contacts=240),\n",
        "    User(id=2, age=25, gender=\"female\", social_contacts=500),\n",
        "    User(id=3, age=33, gender=\"female\", social_contacts=800),\n",
        "]\n",
        "\n",
        "\n",
        "def MAP(_, row: NamedTuple):\n",
        "    if row.gender == \"female\":\n",
        "        yield (row.age, row)\n",
        "\n",
        "\n",
        "def REDUCE(age: str, rows: Iterator[NamedTuple]):\n",
        "    summ = 0\n",
        "    count = 0\n",
        "    for row in rows:\n",
        "        summ += row.social_contacts\n",
        "        count += 1\n",
        "    if count > 0:\n",
        "        yield (age, summ / count)\n",
        "    else:\n",
        "        yield (age, 0)\n",
        "\n",
        "\n",
        "def RECORDREADER():\n",
        "    return [(u.id, u) for u in input_collection]\n",
        "\n",
        "\n",
        "output = MapReduce(RECORDREADER, MAP, REDUCE)\n",
        "output = list(output)\n",
        "output"
      ]
    },
    {
      "cell_type": "markdown",
      "metadata": {
        "id": "kNKYIeerx0nY"
      },
      "source": [
        "## Matrix-Vector multiplication "
      ]
    },
    {
      "cell_type": "code",
      "execution_count": 62,
      "metadata": {
        "colab": {
          "base_uri": "https://localhost:8080/",
          "height": 102
        },
        "id": "rwcntRcCyi1V",
        "outputId": "606737ab-6b55-455c-931f-4fc45155f8a9"
      },
      "outputs": [
        {
          "data": {
            "text/plain": [
              "[(0, 2.203309181868484),\n",
              " (1, 2.203309181868484),\n",
              " (2, 2.203309181868484),\n",
              " (3, 2.203309181868484),\n",
              " (4, 2.203309181868484)]"
            ]
          },
          "execution_count": 62,
          "metadata": {},
          "output_type": "execute_result"
        }
      ],
      "source": [
        "from typing import Iterator\n",
        "import numpy as np\n",
        "\n",
        "mat = np.ones((5, 4))\n",
        "vec = np.random.rand(4)  # in-memory vector in all map tasks\n",
        "\n",
        "\n",
        "def MAP(coordinates: (int, int), value: int):\n",
        "    i, j = coordinates\n",
        "    yield (i, value * vec[j])\n",
        "\n",
        "\n",
        "def REDUCE(i: int, products: Iterator[NamedTuple]):\n",
        "    summ = 0\n",
        "    for p in products:\n",
        "        summ += p\n",
        "    yield (i, summ)\n",
        "\n",
        "\n",
        "def RECORDREADER():\n",
        "    for i in range(mat.shape[0]):\n",
        "        for j in range(mat.shape[1]):\n",
        "            yield ((i, j), mat[i, j])\n",
        "\n",
        "\n",
        "output = MapReduce(RECORDREADER, MAP, REDUCE)\n",
        "output = list(output)\n",
        "output"
      ]
    },
    {
      "cell_type": "markdown",
      "metadata": {
        "id": "ruZREYdi2o4O"
      },
      "source": [
        "## Inverted index "
      ]
    },
    {
      "cell_type": "code",
      "execution_count": 63,
      "metadata": {
        "colab": {
          "base_uri": "https://localhost:8080/",
          "height": 102
        },
        "id": "vt9H9Alf3TYv",
        "outputId": "51aeffc9-e111-4607-bd84-cfcc7b56f238"
      },
      "outputs": [
        {
          "data": {
            "text/plain": [
              "[('what', ['0', '1']),\n",
              " ('it', ['0', '1', '2']),\n",
              " ('is', ['0', '1', '2']),\n",
              " ('a', ['2']),\n",
              " ('banana', ['2'])]"
            ]
          },
          "execution_count": 63,
          "metadata": {},
          "output_type": "execute_result"
        }
      ],
      "source": [
        "from typing import Iterator\n",
        "\n",
        "d1 = \"it is what it is\"\n",
        "d2 = \"what is it\"\n",
        "d3 = \"it is a banana\"\n",
        "documents = [d1, d2, d3]\n",
        "\n",
        "\n",
        "def RECORDREADER():\n",
        "    for docid, document in enumerate(documents):\n",
        "        yield (\"{}\".format(docid), document)\n",
        "\n",
        "\n",
        "def MAP(docId: str, body: str):\n",
        "    for word in set(body.split(\" \")):\n",
        "        yield (word, docId)\n",
        "\n",
        "\n",
        "def REDUCE(word: str, docIds: Iterator[str]):\n",
        "    yield (word, sorted(docIds))\n",
        "\n",
        "\n",
        "output = MapReduce(RECORDREADER, MAP, REDUCE)\n",
        "output = list(output)\n",
        "output"
      ]
    },
    {
      "cell_type": "markdown",
      "metadata": {
        "id": "R7az-6DA6qr2"
      },
      "source": [
        "## WordCount"
      ]
    },
    {
      "cell_type": "code",
      "execution_count": 64,
      "metadata": {
        "colab": {
          "base_uri": "https://localhost:8080/",
          "height": 34
        },
        "id": "dN-nbtgG6uYG",
        "outputId": "24117576-7931-401d-a581-28e246b23453"
      },
      "outputs": [
        {
          "data": {
            "text/plain": [
              "[('', 3), ('it', 9), ('is', 9), ('what', 5), ('a', 1), ('banana', 1)]"
            ]
          },
          "execution_count": 64,
          "metadata": {},
          "output_type": "execute_result"
        }
      ],
      "source": [
        "from typing import Iterator\n",
        "\n",
        "d1 = \"\"\"\n",
        "it is what it is\n",
        "it is what it is\n",
        "it is what it is\"\"\"\n",
        "d2 = \"\"\"\n",
        "what is it\n",
        "what is it\"\"\"\n",
        "d3 = \"\"\"\n",
        "it is a banana\"\"\"\n",
        "documents = [d1, d2, d3]\n",
        "\n",
        "\n",
        "def RECORDREADER():\n",
        "    for docid, document in enumerate(documents):\n",
        "        for lineid, line in enumerate(document.split(\"\\n\")):\n",
        "            yield (\"{}:{}\".format(docid, lineid), line)\n",
        "\n",
        "\n",
        "def MAP(docId: str, line: str):\n",
        "    for word in line.split(\" \"):\n",
        "        yield (word, 1)\n",
        "\n",
        "\n",
        "def REDUCE(word: str, counts: Iterator[int]):\n",
        "    sum = 0\n",
        "    for c in counts:\n",
        "        sum += c\n",
        "    yield (word, sum)\n",
        "\n",
        "\n",
        "output = MapReduce(RECORDREADER, MAP, REDUCE)\n",
        "output = list(output)\n",
        "output"
      ]
    },
    {
      "cell_type": "markdown",
      "metadata": {
        "id": "h-jRAcYCAkkk"
      },
      "source": [
        "# MapReduce Distributed\n",
        "\n",
        "Добавляется в модель фабрика RECORDREARER-ов --- INPUTFORMAT, функция распределения промежуточных результатов по партициям PARTITIONER, и функция COMBINER для частичной аггрегации промежуточных результатов до распределения по новым партициям."
      ]
    },
    {
      "cell_type": "code",
      "execution_count": 65,
      "metadata": {
        "id": "nw-b-xJsApgW"
      },
      "outputs": [],
      "source": [
        "def flatten(nested_iterable):\n",
        "    for iterable in nested_iterable:\n",
        "        for element in iterable:\n",
        "            yield element\n",
        "\n",
        "\n",
        "def groupbykey(iterable):\n",
        "    t = {}\n",
        "    for k2, v2 in iterable:\n",
        "        t[k2] = t.get(k2, []) + [v2]\n",
        "    return t.items()\n",
        "\n",
        "\n",
        "def groupbykey_distributed(map_partitions, PARTITIONER):\n",
        "    global reducers\n",
        "    partitions = [dict() for _ in range(reducers)]\n",
        "    for map_partition in map_partitions:\n",
        "        for k2, v2 in map_partition:\n",
        "            p = partitions[PARTITIONER(k2)]\n",
        "            p[k2] = p.get(k2, []) + [v2]\n",
        "    return [\n",
        "        (partition_id, sorted(partition.items(), key=lambda x: x[0]))\n",
        "        for (partition_id, partition) in enumerate(partitions)\n",
        "    ]\n",
        "\n",
        "\n",
        "def PARTITIONER(obj):\n",
        "    global reducers\n",
        "    return hash(obj) % reducers\n",
        "\n",
        "\n",
        "def MapReduceDistributed(\n",
        "    INPUTFORMAT, MAP, REDUCE, PARTITIONER=PARTITIONER, COMBINER=None\n",
        "):\n",
        "    map_partitions = map(\n",
        "        lambda record_reader: flatten(map(lambda k1v1: MAP(*k1v1), record_reader)),\n",
        "        INPUTFORMAT(),\n",
        "    )\n",
        "    if COMBINER != None:\n",
        "        map_partitions = map(\n",
        "            lambda map_partition: flatten(\n",
        "                map(lambda k2v2: COMBINER(*k2v2), groupbykey(map_partition))\n",
        "            ),\n",
        "            map_partitions,\n",
        "        )\n",
        "    reduce_partitions = groupbykey_distributed(map_partitions, PARTITIONER)  # shuffle\n",
        "    reduce_outputs = map(\n",
        "        lambda reduce_partition: (\n",
        "            reduce_partition[0],\n",
        "            flatten(\n",
        "                map(\n",
        "                    lambda reduce_input_group: REDUCE(*reduce_input_group),\n",
        "                    reduce_partition[1],\n",
        "                )\n",
        "            ),\n",
        "        ),\n",
        "        reduce_partitions,\n",
        "    )\n",
        "\n",
        "    print(\n",
        "        \"{} key-value pairs were sent over a network.\".format(\n",
        "            sum(\n",
        "                [\n",
        "                    len(vs)\n",
        "                    for (k, vs) in flatten(\n",
        "                        [partition for (partition_id, partition) in reduce_partitions]\n",
        "                    )\n",
        "                ]\n",
        "            )\n",
        "        )\n",
        "    )\n",
        "    return reduce_outputs"
      ]
    },
    {
      "cell_type": "markdown",
      "metadata": {
        "id": "kxirlf3XqZxY"
      },
      "source": [
        "## Спецификация MapReduce Distributed\n",
        "\n",
        "\n",
        "```\n",
        "f (k1, v1) -> (k2,v2)*\n",
        "g (k2, v2*) -> (k3,v3)*\n",
        " \n",
        "e1 (k1, v1)\n",
        "e2 (k2, v2)\n",
        "partition1 (k2, v2)*\n",
        "partition2 (k2, v2*)*\n",
        " \n",
        "flatmap (e1->e2*, e1*) -> partition1*\n",
        "groupby (partition1*) -> partition2*\n",
        "\n",
        "mapreduce ((k1,v1)*) -> (k3,v3)*\n",
        "mapreduce .flatmap(f).groupby(k2).flatmap(g)\n",
        "```\n",
        "\n"
      ]
    },
    {
      "cell_type": "markdown",
      "metadata": {
        "id": "CWYw_CpbbY3C"
      },
      "source": [
        "## WordCount "
      ]
    },
    {
      "cell_type": "code",
      "execution_count": 66,
      "metadata": {
        "colab": {
          "base_uri": "https://localhost:8080/",
          "height": 68
        },
        "id": "uR_zfGFkMZlp",
        "outputId": "c8d46167-473d-43b9-881a-2396991b3731"
      },
      "outputs": [
        {
          "name": "stdout",
          "output_type": "stream",
          "text": [
            "16 key-value pairs were sent over a network.\n"
          ]
        },
        {
          "data": {
            "text/plain": [
              "[(0, [('', 6), ('banana', 2), ('it', 18)]),\n",
              " (1, [('a', 2), ('is', 18), ('what', 10)])]"
            ]
          },
          "execution_count": 66,
          "metadata": {},
          "output_type": "execute_result"
        }
      ],
      "source": [
        "from typing import Iterator\n",
        "import numpy as np\n",
        "\n",
        "d1 = \"\"\"\n",
        "it is what it is\n",
        "it is what it is\n",
        "it is what it is\"\"\"\n",
        "d2 = \"\"\"\n",
        "what is it\n",
        "what is it\"\"\"\n",
        "d3 = \"\"\"\n",
        "it is a banana\"\"\"\n",
        "documents = [d1, d2, d3, d1, d2, d3]\n",
        "\n",
        "maps = 3\n",
        "reducers = 2\n",
        "\n",
        "\n",
        "def INPUTFORMAT():\n",
        "    global maps\n",
        "\n",
        "    def RECORDREADER(split):\n",
        "        for docid, document in enumerate(split):\n",
        "            for lineid, line in enumerate(document.split(\"\\n\")):\n",
        "                yield (\"{}:{}\".format(docid, lineid), line)\n",
        "\n",
        "    split_size = int(np.ceil(len(documents) / maps))\n",
        "    for i in range(0, len(documents), split_size):\n",
        "        yield RECORDREADER(documents[i : i + split_size])\n",
        "\n",
        "\n",
        "def MAP(docId: str, line: str):\n",
        "    for word in line.split(\" \"):\n",
        "        yield (word, 1)\n",
        "\n",
        "\n",
        "def REDUCE(word: str, counts: Iterator[int]):\n",
        "    sum = 0\n",
        "    for c in counts:\n",
        "        sum += c\n",
        "    yield (word, sum)\n",
        "\n",
        "\n",
        "# try to set COMBINER=REDUCER and look at the number of values sent over the network\n",
        "partitioned_output = MapReduceDistributed(INPUTFORMAT, MAP, REDUCE, COMBINER=REDUCE)\n",
        "partitioned_output = [\n",
        "    (partition_id, list(partition)) for (partition_id, partition) in partitioned_output\n",
        "]\n",
        "partitioned_output"
      ]
    },
    {
      "cell_type": "markdown",
      "metadata": {
        "id": "gCJGx8IQ87xS"
      },
      "source": [
        "## TeraSort"
      ]
    },
    {
      "cell_type": "code",
      "execution_count": 67,
      "metadata": {
        "colab": {
          "base_uri": "https://localhost:8080/",
          "height": 578
        },
        "id": "P2v8v1v_8_YR",
        "outputId": "e0987c25-9757-46cb-8e55-d5d2adfbee2b"
      },
      "outputs": [
        {
          "name": "stdout",
          "output_type": "stream",
          "text": [
            "30 key-value pairs were sent over a network.\n"
          ]
        },
        {
          "data": {
            "text/plain": [
              "[(0,\n",
              "  [(None, 0.03316849979390424),\n",
              "   (None, 0.044412141008436934),\n",
              "   (None, 0.0766630856403232),\n",
              "   (None, 0.10807385783209034),\n",
              "   (None, 0.10873255505806656),\n",
              "   (None, 0.12482595203081259),\n",
              "   (None, 0.15272569872255937),\n",
              "   (None, 0.24050164770403393),\n",
              "   (None, 0.25888544703994854),\n",
              "   (None, 0.2666122806988731),\n",
              "   (None, 0.2688570723067958),\n",
              "   (None, 0.296887729957106),\n",
              "   (None, 0.3210779788027708),\n",
              "   (None, 0.3783559005883189),\n",
              "   (None, 0.39238437717656505),\n",
              "   (None, 0.4703255907721522)]),\n",
              " (1,\n",
              "  [(None, 0.5901782747441229),\n",
              "   (None, 0.6245135430589264),\n",
              "   (None, 0.6369427760872235),\n",
              "   (None, 0.6739026190498255),\n",
              "   (None, 0.6802374868126899),\n",
              "   (None, 0.6876747128563389),\n",
              "   (None, 0.7369049150990232),\n",
              "   (None, 0.7795729874131213),\n",
              "   (None, 0.804234078707242),\n",
              "   (None, 0.8850452993495883),\n",
              "   (None, 0.8913014933929179),\n",
              "   (None, 0.9574929941575627),\n",
              "   (None, 0.988825387726906),\n",
              "   (None, 0.9937232689818417)])]"
            ]
          },
          "execution_count": 67,
          "metadata": {},
          "output_type": "execute_result"
        }
      ],
      "source": [
        "import numpy as np\n",
        "\n",
        "input_values = np.random.rand(30)\n",
        "maps = 3\n",
        "reducers = 2\n",
        "min_value = 0.0\n",
        "max_value = 1.0\n",
        "\n",
        "\n",
        "def INPUTFORMAT():\n",
        "    global maps\n",
        "\n",
        "    def RECORDREADER(split):\n",
        "        for value in split:\n",
        "            yield (value, None)\n",
        "\n",
        "    split_size = int(np.ceil(len(input_values) / maps))\n",
        "    for i in range(0, len(input_values), split_size):\n",
        "        yield RECORDREADER(input_values[i : i + split_size])\n",
        "\n",
        "\n",
        "def MAP(value: int, _):\n",
        "    yield (value, None)\n",
        "\n",
        "\n",
        "def PARTITIONER(key):\n",
        "    global reducers\n",
        "    global max_value\n",
        "    global min_value\n",
        "    bucket_size = (max_value - min_value) / reducers\n",
        "    bucket_id = 0\n",
        "    while (key > (bucket_id + 1) * bucket_size) and (\n",
        "        (bucket_id + 1) * bucket_size < max_value\n",
        "    ):\n",
        "        bucket_id += 1\n",
        "    return bucket_id\n",
        "\n",
        "\n",
        "def REDUCE(value: int, _):\n",
        "    yield (None, value)\n",
        "\n",
        "\n",
        "partitioned_output = MapReduceDistributed(\n",
        "    INPUTFORMAT, MAP, REDUCE, COMBINER=None, PARTITIONER=PARTITIONER\n",
        ")\n",
        "partitioned_output = [\n",
        "    (partition_id, list(partition)) for (partition_id, partition) in partitioned_output\n",
        "]\n",
        "partitioned_output"
      ]
    },
    {
      "cell_type": "markdown",
      "metadata": {
        "id": "Iy65YJTH99iT"
      },
      "source": [
        "# Упражнения\n",
        "Упражнения взяты из Rajaraman A., Ullman J. D. Mining of massive datasets. – Cambridge University Press, 2011.\n",
        "\n",
        "\n",
        "Для выполнения заданий переопределите функции RECORDREADER, MAP, REDUCE. Для модели распределённой системы может потребоваться переопределение функций PARTITION и COMBINER."
      ]
    },
    {
      "cell_type": "code",
      "execution_count": 68,
      "metadata": {},
      "outputs": [],
      "source": [
        "# requires python 3.6+\n",
        "import numpy as np\n",
        "from typing import NamedTuple\n",
        "from typing import Iterator"
      ]
    },
    {
      "cell_type": "markdown",
      "metadata": {},
      "source": [
        "Описанные ранее функции, составляющие MapReduce"
      ]
    },
    {
      "cell_type": "code",
      "execution_count": 69,
      "metadata": {},
      "outputs": [],
      "source": [
        "def flatten(nested_iterable):\n",
        "    for iterable in nested_iterable:\n",
        "        for element in iterable:\n",
        "            yield element\n",
        "\n",
        "\n",
        "def groupbykey(iterable):\n",
        "    t = {}\n",
        "    for k2, v2 in iterable:\n",
        "        t[k2] = t.get(k2, []) + [v2]\n",
        "    return t.items()\n",
        "\n",
        "\n",
        "def MapReduce(RECORDREADER, MAP, REDUCE):\n",
        "    return flatten(\n",
        "        map(\n",
        "            lambda x: REDUCE(*x),\n",
        "            groupbykey(flatten(map(lambda x: MAP(*x), RECORDREADER()))),\n",
        "        )\n",
        "    )\n",
        "\n",
        "\n",
        "class User(NamedTuple):\n",
        "    id: int\n",
        "    age: str\n",
        "    social_contacts: int\n",
        "    gender: str\n",
        "\n",
        "\n",
        "input_collection = [\n",
        "    User(id=0, age=55, gender=\"male\", social_contacts=20),\n",
        "    User(id=1, age=25, gender=\"female\", social_contacts=240),\n",
        "    User(id=2, age=25, gender=\"female\", social_contacts=500),\n",
        "    User(id=3, age=33, gender=\"female\", social_contacts=800),\n",
        "]"
      ]
    },
    {
      "cell_type": "markdown",
      "metadata": {
        "id": "cfvAeZm3S8S8"
      },
      "source": [
        "### Максимальное значение ряда\n",
        "\n",
        "Разработайте MapReduce алгоритм, который находит максимальное число входного списка чисел."
      ]
    },
    {
      "cell_type": "markdown",
      "metadata": {},
      "source": [
        "Алгоритм находит пользователя с максимальным числом social_contacts"
      ]
    },
    {
      "cell_type": "code",
      "execution_count": 70,
      "metadata": {},
      "outputs": [
        {
          "data": {
            "text/plain": [
              "[User(id=3, age=33, social_contacts=800, gender='female')]"
            ]
          },
          "execution_count": 70,
          "metadata": {},
          "output_type": "execute_result"
        }
      ],
      "source": [
        "# Одинаковый ключ группировки (0) для всех пользователей\n",
        "def MAP_MAX(_, row: NamedTuple):\n",
        "    yield (0, row)\n",
        "\n",
        "\n",
        "# Поиск пользователя с максимальным числом social_contacts\n",
        "def REDUCE_MAX(_, rows: Iterator[NamedTuple]):\n",
        "    max_contacts = 0\n",
        "    max_contacts_user = None\n",
        "    for row in rows:\n",
        "        if row.social_contacts > max_contacts:\n",
        "            max_contacts = row.social_contacts\n",
        "            max_contacts_user = row\n",
        "    yield max_contacts_user\n",
        "\n",
        "\n",
        "def RECORDREADER():\n",
        "    return [(u.id, u) for u in input_collection]\n",
        "\n",
        "\n",
        "output = MapReduce(RECORDREADER, MAP_MAX, REDUCE_MAX)\n",
        "output = list(output)\n",
        "output"
      ]
    },
    {
      "cell_type": "markdown",
      "metadata": {
        "id": "k86bXnqZTk-U"
      },
      "source": [
        "### Арифметическое среднее\n",
        "\n",
        "Разработайте MapReduce алгоритм, который находит арифметическое среднее.\n",
        "\n",
        "$$\\overline{X} = \\frac{1}{n}\\sum_{i=0}^{n} x_i$$\n"
      ]
    },
    {
      "cell_type": "markdown",
      "metadata": {},
      "source": [
        "Алгоритм вычисляет среднее значение параметра social_contacts среди всех пользователей"
      ]
    },
    {
      "cell_type": "code",
      "execution_count": 71,
      "metadata": {
        "id": "MPoY5pkfUNZf"
      },
      "outputs": [
        {
          "data": {
            "text/plain": [
              "[390.0]"
            ]
          },
          "execution_count": 71,
          "metadata": {},
          "output_type": "execute_result"
        }
      ],
      "source": [
        "# Одинаковый ключ группировки (0) для всех пользователей\n",
        "def MAP_AVG(_, row: NamedTuple):\n",
        "    yield (0, row)\n",
        "\n",
        "\n",
        "# Подсчет среднего значения social_contacts\n",
        "def REDUCE_AVG(_, rows: Iterator[NamedTuple]):\n",
        "    summ = 0\n",
        "    count = 0\n",
        "    for row in rows:\n",
        "        summ += row.social_contacts\n",
        "        count += 1\n",
        "    if count > 0:\n",
        "        yield summ / count\n",
        "    else:\n",
        "        yield 0\n",
        "\n",
        "\n",
        "def RECORDREADER():\n",
        "    return [(u.id, u) for u in input_collection]\n",
        "\n",
        "\n",
        "output = MapReduce(RECORDREADER, MAP_AVG, REDUCE_AVG)\n",
        "output = list(output)\n",
        "output"
      ]
    },
    {
      "cell_type": "markdown",
      "metadata": {
        "id": "xanzszhsIlLe"
      },
      "source": [
        "### GroupByKey на основе сортировки\n",
        "\n",
        "Реализуйте groupByKey на основе сортировки, проверьте его работу на примерах"
      ]
    },
    {
      "cell_type": "code",
      "execution_count": 72,
      "metadata": {
        "id": "hQPn3USsIkEC"
      },
      "outputs": [],
      "source": [
        "def groupbykey(iterable):\n",
        "    # Сортировка по ключу\n",
        "    iterable = sorted(iterable, key=lambda e: e[0])\n",
        "    t = {}\n",
        "    for k2, v2 in iterable:\n",
        "        t[k2] = t.get(k2, []) + [v2]\n",
        "    return t.items()"
      ]
    },
    {
      "cell_type": "markdown",
      "metadata": {},
      "source": [
        "Проверка на предыдущих примерах"
      ]
    },
    {
      "cell_type": "code",
      "execution_count": 73,
      "metadata": {},
      "outputs": [
        {
          "name": "stdout",
          "output_type": "stream",
          "text": [
            "max: [User(id=3, age=33, social_contacts=800, gender='female')]\n",
            "average: [390.0]\n"
          ]
        }
      ],
      "source": [
        "output = MapReduce(RECORDREADER, MAP_MAX, REDUCE_MAX)\n",
        "output = list(output)\n",
        "print(f\"max: {output}\")\n",
        "\n",
        "output = MapReduce(RECORDREADER, MAP_AVG, REDUCE_AVG)\n",
        "output = list(output)\n",
        "print(f\"average: {output}\")"
      ]
    },
    {
      "cell_type": "markdown",
      "metadata": {
        "id": "5SgEjCZyGnu6"
      },
      "source": [
        "### Drop duplicates (set construction, unique elements, distinct)\n",
        "\n",
        "Реализуйте распределённую операцию исключения дубликатов"
      ]
    },
    {
      "cell_type": "markdown",
      "metadata": {},
      "source": [
        "Дубликатами будем считать пользователей с одинаковым id"
      ]
    },
    {
      "cell_type": "code",
      "execution_count": 74,
      "metadata": {
        "id": "okjbyApjGhMt"
      },
      "outputs": [],
      "source": [
        "input_collection = [\n",
        "    User(id=0, age=54, gender=\"male\", social_contacts=20),\n",
        "    User(id=0, age=25, gender=\"female\", social_contacts=240),\n",
        "    User(id=1, age=27, gender=\"male\", social_contacts=642),\n",
        "    User(id=2, age=16, gender=\"male\", social_contacts=123),\n",
        "    User(id=2, age=35, gender=\"female\", social_contacts=247),\n",
        "    User(id=3, age=31, gender=\"male\", social_contacts=521),\n",
        "    User(id=3, age=32, gender=\"female\", social_contacts=753),\n",
        "]"
      ]
    },
    {
      "cell_type": "markdown",
      "metadata": {},
      "source": [
        "Представленный ранее код для распределенной процедуры MapReduceDistributed"
      ]
    },
    {
      "cell_type": "code",
      "execution_count": 75,
      "metadata": {},
      "outputs": [],
      "source": [
        "def flatten(nested_iterable):\n",
        "    for iterable in nested_iterable:\n",
        "        for element in iterable:\n",
        "            yield element\n",
        "\n",
        "\n",
        "def groupbykey(iterable):\n",
        "    t = {}\n",
        "    for k2, v2 in iterable:\n",
        "        t[k2] = t.get(k2, []) + [v2]\n",
        "    return t.items()\n",
        "\n",
        "\n",
        "def groupbykey_distributed(map_partitions, PARTITIONER):\n",
        "    global reducers\n",
        "    partitions = [dict() for _ in range(reducers)]\n",
        "    for map_partition in map_partitions:\n",
        "        for k2, v2 in map_partition:\n",
        "            p = partitions[PARTITIONER(k2)]\n",
        "            p[k2] = p.get(k2, []) + [v2]\n",
        "    return [\n",
        "        (partition_id, sorted(partition.items(), key=lambda x: x[0]))\n",
        "        for (partition_id, partition) in enumerate(partitions)\n",
        "    ]\n",
        "\n",
        "\n",
        "def PARTITIONER(obj):\n",
        "    global reducers\n",
        "    return hash(obj) % reducers\n",
        "\n",
        "\n",
        "def MapReduceDistributed(\n",
        "    INPUTFORMAT, MAP, REDUCE, PARTITIONER=PARTITIONER, COMBINER=None\n",
        "):\n",
        "    map_partitions = map(\n",
        "        lambda record_reader: flatten(map(lambda k1v1: MAP(*k1v1), record_reader)),\n",
        "        INPUTFORMAT(),\n",
        "    )\n",
        "    if COMBINER != None:\n",
        "        map_partitions = map(\n",
        "            lambda map_partition: flatten(\n",
        "                map(lambda k2v2: COMBINER(*k2v2), groupbykey(map_partition))\n",
        "            ),\n",
        "            map_partitions,\n",
        "        )\n",
        "    reduce_partitions = groupbykey_distributed(map_partitions, PARTITIONER)  # shuffle\n",
        "    reduce_outputs = map(\n",
        "        lambda reduce_partition: (\n",
        "            reduce_partition[0],\n",
        "            flatten(\n",
        "                map(\n",
        "                    lambda reduce_input_group: REDUCE(*reduce_input_group),\n",
        "                    reduce_partition[1],\n",
        "                )\n",
        "            ),\n",
        "        ),\n",
        "        reduce_partitions,\n",
        "    )\n",
        "\n",
        "    print(\n",
        "        \"{} key-value pairs were sent over a network.\".format(\n",
        "            sum(\n",
        "                [\n",
        "                    len(vs)\n",
        "                    for (k, vs) in flatten(\n",
        "                        [partition for (partition_id, partition) in reduce_partitions]\n",
        "                    )\n",
        "                ]\n",
        "            )\n",
        "        )\n",
        "    )\n",
        "    return reduce_outputs"
      ]
    },
    {
      "cell_type": "code",
      "execution_count": 76,
      "metadata": {},
      "outputs": [
        {
          "name": "stdout",
          "output_type": "stream",
          "text": [
            "7 key-value pairs were sent over a network.\n"
          ]
        },
        {
          "data": {
            "text/plain": [
              "[(0,\n",
              "  [User(id=0, age=54, social_contacts=20, gender='male'),\n",
              "   User(id=2, age=16, social_contacts=123, gender='male')]),\n",
              " (1,\n",
              "  [User(id=1, age=27, social_contacts=642, gender='male'),\n",
              "   User(id=3, age=31, social_contacts=521, gender='male')])]"
            ]
          },
          "execution_count": 76,
          "metadata": {},
          "output_type": "execute_result"
        }
      ],
      "source": [
        "maps = 3\n",
        "reducers = 2\n",
        "\n",
        "\n",
        "def INPUTFORMAT():\n",
        "    global maps\n",
        "\n",
        "    def RECORDREADER(split):\n",
        "        for userindex, user in enumerate(split):\n",
        "            yield (userindex, user)\n",
        "\n",
        "    # Разделение массива пользователей между вычислительными узлами\n",
        "    split_size = int(np.ceil(len(input_collection) / maps))\n",
        "    for i in range(0, len(input_collection), split_size):\n",
        "        yield RECORDREADER(input_collection[i : i + split_size])\n",
        "\n",
        "\n",
        "# Группировка пользователей по id\n",
        "def MAP_UNIQUE(_, user: str):\n",
        "    yield (user.id, user)\n",
        "\n",
        "\n",
        "# Из множества пользователей с одинаковым id остается только первый\n",
        "def REDUCE_UNIQUE(user_id: int, users: Iterator[int]):\n",
        "    yield users[0]\n",
        "\n",
        "\n",
        "# try to set COMBINER=REDUCER and look at the number of values sent over the network\n",
        "partitioned_output = MapReduceDistributed(\n",
        "    INPUTFORMAT, MAP_UNIQUE, REDUCE_UNIQUE, COMBINER=None\n",
        ")\n",
        "partitioned_output = [\n",
        "    (partition_id, list(partition)) for (partition_id, partition) in partitioned_output\n",
        "]\n",
        "partitioned_output"
      ]
    },
    {
      "cell_type": "markdown",
      "metadata": {
        "id": "e7sRGoTXuJze"
      },
      "source": [
        "#Операторы реляционной алгебры\n",
        "### Selection (Выборка)\n",
        "\n",
        "**The Map Function**: Для  каждого кортежа $t \\in R$ вычисляется истинность предиката $C$. В случае истины создаётся пара ключ-значение $(t, t)$. В паре ключ и значение одинаковы, равны $t$.\n",
        "\n",
        "**The Reduce Function:** Роль функции Reduce выполняет функция идентичности, которая возвращает то же значение, что получила на вход.\n",
        "\n"
      ]
    },
    {
      "cell_type": "code",
      "execution_count": 77,
      "metadata": {
        "id": "4nKIKe59uIfc"
      },
      "outputs": [
        {
          "data": {
            "text/plain": [
              "[(User(id=0, age=25, social_contacts=240, gender='female'),\n",
              "  [User(id=0, age=25, social_contacts=240, gender='female')]),\n",
              " (User(id=2, age=35, social_contacts=247, gender='female'),\n",
              "  [User(id=2, age=35, social_contacts=247, gender='female')]),\n",
              " (User(id=3, age=32, social_contacts=753, gender='female'),\n",
              "  [User(id=3, age=32, social_contacts=753, gender='female')])]"
            ]
          },
          "execution_count": 77,
          "metadata": {},
          "output_type": "execute_result"
        }
      ],
      "source": [
        "# Предикатом C в данном случае является проверка параметра gender\n",
        "def MAP_SELECT(_, row: NamedTuple):\n",
        "    if row.gender == \"female\":\n",
        "        yield (row, row)\n",
        "\n",
        "\n",
        "def REDUCE_SELECT(row: str, rows: Iterator[NamedTuple]):\n",
        "    yield (row, rows)\n",
        "\n",
        "\n",
        "def RECORDREADER():\n",
        "    return [(u.id, u) for u in input_collection]\n",
        "\n",
        "\n",
        "output = MapReduce(RECORDREADER, MAP_SELECT, REDUCE_SELECT)\n",
        "output = list(output)\n",
        "output"
      ]
    },
    {
      "cell_type": "markdown",
      "metadata": {
        "id": "w27Ca-_Ku85V"
      },
      "source": [
        "### Projection (Проекция)\n",
        "\n",
        "Проекция на множество атрибутов $S$.\n",
        "\n",
        "**The Map Function:** Для каждого кортежа $t \\in R$ создайте кортеж $t′$, исключая  из $t$ те значения, атрибуты которых не принадлежат  $S$. Верните пару $(t′, t′)$.\n",
        "\n",
        "**The Reduce Function:** Для каждого ключа $t′$, созданного любой Map задачей, вы получаете одну или несколько пар $(t′, t′)$. Reduce функция преобразует $(t′, [t′, t′, . . . , t′])$ в $(t′, t′)$, так, что для ключа $t′$ возвращается одна пара  $(t′, t′)$."
      ]
    },
    {
      "cell_type": "markdown",
      "metadata": {},
      "source": [
        "Исключаем из кортежа пользователя параметр gender, если его значение не принадлежит множеству S = [\"male\", \"female\"]"
      ]
    },
    {
      "cell_type": "code",
      "execution_count": 78,
      "metadata": {
        "id": "BEvuY4GqvhS6"
      },
      "outputs": [],
      "source": [
        "input_collection_2 = [\n",
        "    dict(id=0, age=54, gender=\"male\", social_contacts=20),\n",
        "    dict(id=0, age=25, gender=\"female\", social_contacts=240),\n",
        "    dict(id=1, age=27, gender=\"undefined\", social_contacts=642),\n",
        "    dict(id=2, age=16, gender=\"male\", social_contacts=123),\n",
        "    dict(id=2, age=35, gender=\"undefined\", social_contacts=247),\n",
        "    dict(id=3, age=31, gender=\"male\", social_contacts=521),\n",
        "    dict(id=3, age=32, gender=\"female\", social_contacts=753),\n",
        "]"
      ]
    },
    {
      "cell_type": "markdown",
      "metadata": {},
      "source": [
        "Код MapReduce для наглядности"
      ]
    },
    {
      "cell_type": "code",
      "execution_count": 79,
      "metadata": {},
      "outputs": [],
      "source": [
        "def flatten(nested_iterable):\n",
        "    for iterable in nested_iterable:\n",
        "        for element in iterable:\n",
        "            yield element\n",
        "\n",
        "\n",
        "def groupbykey(iterable):\n",
        "    t = {}\n",
        "    for k2, v2 in iterable:\n",
        "        t[k2] = t.get(k2, []) + [v2]\n",
        "    return t.items()\n",
        "\n",
        "\n",
        "def MapReduce(RECORDREADER, MAP, REDUCE):\n",
        "    return flatten(\n",
        "        map(\n",
        "            lambda x: REDUCE(*x),\n",
        "            groupbykey(flatten(map(lambda x: MAP(*x), RECORDREADER()))),\n",
        "        )\n",
        "    )"
      ]
    },
    {
      "cell_type": "code",
      "execution_count": 80,
      "metadata": {},
      "outputs": [
        {
          "data": {
            "text/plain": [
              "[(0,\n",
              "  [{'id': 0, 'age': 54, 'gender': 'male', 'social_contacts': 20},\n",
              "   {'id': 0, 'age': 25, 'gender': 'female', 'social_contacts': 240}]),\n",
              " (1, [{'id': 1, 'age': 27, 'social_contacts': 642}]),\n",
              " (2,\n",
              "  [{'id': 2, 'age': 16, 'gender': 'male', 'social_contacts': 123},\n",
              "   {'id': 2, 'age': 35, 'social_contacts': 247}]),\n",
              " (3,\n",
              "  [{'id': 3, 'age': 31, 'gender': 'male', 'social_contacts': 521},\n",
              "   {'id': 3, 'age': 32, 'gender': 'female', 'social_contacts': 753}])]"
            ]
          },
          "execution_count": 80,
          "metadata": {},
          "output_type": "execute_result"
        }
      ],
      "source": [
        "# Группировка по id\n",
        "def MAP_PROJECTION(_, row: dict):\n",
        "    S = [\"male\", \"female\"]\n",
        "    if row[\"gender\"] in S:\n",
        "        yield (row[\"id\"], row)\n",
        "    else:\n",
        "        # Удаляем поле gender у полученого словаря\n",
        "        modified_row = row.copy()\n",
        "        del modified_row[\"gender\"]\n",
        "        yield (modified_row[\"id\"], modified_row)\n",
        "\n",
        "\n",
        "def REDUCE_PROJECTION(row: str, rows: Iterator[NamedTuple]):\n",
        "    yield (row, rows)\n",
        "\n",
        "\n",
        "def RECORDREADER():\n",
        "    return [(u[\"id\"], u) for u in input_collection_2]\n",
        "\n",
        "\n",
        "output = MapReduce(RECORDREADER, MAP_PROJECTION, REDUCE_PROJECTION)\n",
        "output = list(output)\n",
        "output"
      ]
    },
    {
      "cell_type": "markdown",
      "metadata": {
        "id": "7gau6lKXvn2R"
      },
      "source": [
        "### Union (Объединение)\n",
        "\n",
        "**The Map Function:** Превратите каждый входной кортеж $t$ в пару ключ-значение $(t, t)$.\n",
        "\n",
        "**The Reduce Function:** С каждым ключом $t$ будет ассоциировано одно или два значения. В обоих случаях создайте $(t, t)$ в качестве выходного значения."
      ]
    },
    {
      "cell_type": "code",
      "execution_count": 81,
      "metadata": {},
      "outputs": [],
      "source": [
        "input_collection_a = [\n",
        "    User(id=1, age=54, gender=\"male\", social_contacts=20),\n",
        "    User(id=2, age=25, gender=\"female\", social_contacts=240),\n",
        "    User(id=3, age=27, gender=\"male\", social_contacts=642),\n",
        "    User(id=4, age=16, gender=\"male\", social_contacts=123),\n",
        "    User(id=5, age=35, gender=\"female\", social_contacts=247),\n",
        "]\n",
        "\n",
        "input_collection_b = [\n",
        "    User(id=5, age=35, gender=\"female\", social_contacts=247),\n",
        "    User(id=6, age=31, gender=\"male\", social_contacts=521),\n",
        "    User(id=7, age=32, gender=\"female\", social_contacts=753),\n",
        "]"
      ]
    },
    {
      "cell_type": "code",
      "execution_count": 82,
      "metadata": {},
      "outputs": [
        {
          "data": {
            "text/plain": [
              "[(User(id=1, age=54, social_contacts=20, gender='male'),\n",
              "  User(id=1, age=54, social_contacts=20, gender='male')),\n",
              " (User(id=2, age=25, social_contacts=240, gender='female'),\n",
              "  User(id=2, age=25, social_contacts=240, gender='female')),\n",
              " (User(id=3, age=27, social_contacts=642, gender='male'),\n",
              "  User(id=3, age=27, social_contacts=642, gender='male')),\n",
              " (User(id=4, age=16, social_contacts=123, gender='male'),\n",
              "  User(id=4, age=16, social_contacts=123, gender='male')),\n",
              " (User(id=5, age=35, social_contacts=247, gender='female'),\n",
              "  User(id=5, age=35, social_contacts=247, gender='female')),\n",
              " (User(id=6, age=31, social_contacts=521, gender='male'),\n",
              "  User(id=6, age=31, social_contacts=521, gender='male')),\n",
              " (User(id=7, age=32, social_contacts=753, gender='female'),\n",
              "  User(id=7, age=32, social_contacts=753, gender='female'))]"
            ]
          },
          "execution_count": 82,
          "metadata": {},
          "output_type": "execute_result"
        }
      ],
      "source": [
        "# Группировка пользователей по id\n",
        "def MAP_UNION(_, row: NamedTuple):\n",
        "    yield (row.id, row)\n",
        "\n",
        "\n",
        "# Выходное значение равно (t, t) независимо от присутствия пользователя в только одной или обоих выборках\n",
        "def REDUCE_UNION(row: str, rows: Iterator[NamedTuple]):\n",
        "    yield (rows[0], rows[0])\n",
        "\n",
        "\n",
        "def RECORDREADER():\n",
        "    return [(u.id, u) for u in input_collection_a + input_collection_b]\n",
        "\n",
        "\n",
        "output = MapReduce(RECORDREADER, MAP_UNION, REDUCE_UNION)\n",
        "output = list(output)\n",
        "output"
      ]
    },
    {
      "cell_type": "markdown",
      "metadata": {
        "id": "dQ8TuEbjv4J8"
      },
      "source": [
        "### Intersection (Пересечение)\n",
        "\n",
        "**The Map Function:** Превратите каждый кортеж $t$ в пары ключ-значение $(t, t)$.\n",
        "\n",
        "**The Reduce Function:** Если для ключа $t$ есть список из двух элементов $[t, t]$ $-$ создайте пару $(t, t)$. Иначе, ничего не создавайте."
      ]
    },
    {
      "cell_type": "code",
      "execution_count": 83,
      "metadata": {
        "id": "XKlBZh4IwERR"
      },
      "outputs": [
        {
          "data": {
            "text/plain": [
              "[[User(id=5, age=35, social_contacts=247, gender='female'),\n",
              "  User(id=5, age=35, social_contacts=247, gender='female')]]"
            ]
          },
          "execution_count": 83,
          "metadata": {},
          "output_type": "execute_result"
        }
      ],
      "source": [
        "# Группировка по пользователям\n",
        "def MAP_INTERSECTION(_, row: NamedTuple):\n",
        "    yield (row.id, row)\n",
        "\n",
        "\n",
        "# Возвращает пользователя, только если он присутствует в обоих выборках\n",
        "def REDUCE_INTERSECTION(row_id: int, rows: Iterator[NamedTuple]):\n",
        "    if len(rows) == 2:\n",
        "        yield rows\n",
        "\n",
        "\n",
        "def RECORDREADER():\n",
        "    return [(u.id, u) for u in input_collection_a + input_collection_b]\n",
        "\n",
        "\n",
        "output = MapReduce(RECORDREADER, MAP_INTERSECTION, REDUCE_INTERSECTION)\n",
        "output = list(output)\n",
        "output"
      ]
    },
    {
      "cell_type": "markdown",
      "metadata": {
        "id": "AVOpqoY3wE5k"
      },
      "source": [
        "### Difference (Разница)\n",
        "\n",
        "**The Map Function:** Для кортежа $t \\in R$, создайте пару $(t, R)$, и для кортежа $t \\in S$, создайте пару $(t, S)$. Задумка заключается в том, чтобы значение пары было именем отношения $R$ or $S$, которому принадлежит кортеж (а лучше, единичный бит, по которому можно два отношения различить $R$ or $S$), а не весь набор атрибутов отношения.\n",
        "\n",
        "**The Reduce Function:** Для каждого ключа $t$, если соответствующее значение является списком $[R]$, создайте пару $(t, t)$. В иных случаях не предпринимайте действий."
      ]
    },
    {
      "cell_type": "code",
      "execution_count": 84,
      "metadata": {
        "id": "QE_AC09lwZIZ"
      },
      "outputs": [
        {
          "data": {
            "text/plain": [
              "[User(id=1, age=54, social_contacts=20, gender='male'),\n",
              " User(id=2, age=25, social_contacts=240, gender='female'),\n",
              " User(id=3, age=27, social_contacts=642, gender='male'),\n",
              " User(id=4, age=16, social_contacts=123, gender='male')]"
            ]
          },
          "execution_count": 84,
          "metadata": {},
          "output_type": "execute_result"
        }
      ],
      "source": [
        "# Группировка по пользователям\n",
        "def MAP_DIFFERENCE(collection_id, user):\n",
        "    yield (user, collection_id)\n",
        "\n",
        "\n",
        "# Возвращает пользователей, входящих только в первую выборку (и не входящих во вторую)\n",
        "def REDUCE_DIFFERENCE(user, collections):\n",
        "    if collections == [0]:\n",
        "        yield (user)\n",
        "\n",
        "\n",
        "# На первом месте стоит номер выборки\n",
        "def RECORDREADER():\n",
        "    return [(0, a) for a in input_collection_a] + [(1, b) for b in input_collection_b]\n",
        "\n",
        "\n",
        "output = MapReduce(RECORDREADER, MAP_DIFFERENCE, REDUCE_DIFFERENCE)\n",
        "output = list(output)\n",
        "output"
      ]
    },
    {
      "cell_type": "markdown",
      "metadata": {
        "id": "j8I58V2VwhSm"
      },
      "source": [
        "### Natural Join\n",
        "\n",
        "**The Map Function:** Для каждого кортежа $(a, b)$ отношения $R$, создайте пару $(b,(R, a))$. Для каждого кортежа $(b, c)$ отношения $S$, создайте пару $(b,(S, c))$.\n",
        "\n",
        "**The Reduce Function:** Каждый ключ $b$ будет асоциирован со списком пар, которые принимают форму либо $(R, a)$, либо $(S, c)$. Создайте все пары, одни, состоящие из  первого компонента $R$, а другие, из первого компонента $S$, то есть $(R, a)$ и $(S, c)$. На выходе вы получаете последовательность пар ключ-значение из списков ключей и значений. Ключ не нужен. Каждое значение, это тройка $(a, b, c)$ такая, что $(R, a)$ и $(S, c)$ это принадлежат входному списку значений."
      ]
    },
    {
      "cell_type": "markdown",
      "metadata": {},
      "source": [
        "Пользователям был добавлен параметр city_id и была создана сущность город (City)"
      ]
    },
    {
      "cell_type": "code",
      "execution_count": 85,
      "metadata": {
        "id": "yHiuuTctw86I"
      },
      "outputs": [],
      "source": [
        "class User(NamedTuple):\n",
        "    id: int\n",
        "    age: str\n",
        "    social_contacts: int\n",
        "    gender: str\n",
        "    city_id: int\n",
        "\n",
        "\n",
        "users_collection = [\n",
        "    User(id=1, age=54, gender=\"male\", social_contacts=20, city_id=1),\n",
        "    User(id=2, age=25, gender=\"female\", social_contacts=240, city_id=2),\n",
        "    User(id=3, age=27, gender=\"male\", social_contacts=642, city_id=2),\n",
        "    User(id=4, age=16, gender=\"male\", social_contacts=123, city_id=3),\n",
        "    User(id=5, age=35, gender=\"female\", social_contacts=247, city_id=4),\n",
        "]\n",
        "\n",
        "\n",
        "class City(NamedTuple):\n",
        "    id: int\n",
        "    name: str\n",
        "\n",
        "\n",
        "cities_collection = [\n",
        "    City(id=1, name=\"Samara\"),\n",
        "    City(id=2, name=\"Moscow\"),\n",
        "    City(id=3, name=\"Omsk\"),\n",
        "    City(id=4, name=\"Tomks\"),\n",
        "    City(id=5, name=\"Belgorod\"),\n",
        "]"
      ]
    },
    {
      "cell_type": "code",
      "execution_count": 86,
      "metadata": {},
      "outputs": [
        {
          "data": {
            "text/plain": [
              "[(User(id=1, age=54, social_contacts=20, gender='male', city_id=1),\n",
              "  1,\n",
              "  City(id=1, name='Samara')),\n",
              " (User(id=2, age=25, social_contacts=240, gender='female', city_id=2),\n",
              "  2,\n",
              "  City(id=2, name='Moscow')),\n",
              " (User(id=3, age=27, social_contacts=642, gender='male', city_id=2),\n",
              "  2,\n",
              "  City(id=2, name='Moscow')),\n",
              " (User(id=4, age=16, social_contacts=123, gender='male', city_id=3),\n",
              "  3,\n",
              "  City(id=3, name='Omsk')),\n",
              " (User(id=5, age=35, social_contacts=247, gender='female', city_id=4),\n",
              "  4,\n",
              "  City(id=4, name='Tomks'))]"
            ]
          },
          "execution_count": 86,
          "metadata": {},
          "output_type": "execute_result"
        }
      ],
      "source": [
        "# Группировка пользователей по id города\n",
        "def MAP_JOIN(city_id, row):\n",
        "    yield (city_id, row)\n",
        "\n",
        "\n",
        "def REDUCE_JOIN(city_id, rows):\n",
        "    users = []\n",
        "    city = None\n",
        "\n",
        "    # Цикл для определения города (он будет единственным, так как группировка происходит по id города)\n",
        "    for row in rows:\n",
        "        if type(row) is User:\n",
        "            users += [row]\n",
        "        else:\n",
        "            city = row\n",
        "\n",
        "    for row in rows:\n",
        "        if type(row) is User:\n",
        "            # Возвращает тройки (a,b,c), где a - пользователь, b - id города, c - сам город\n",
        "            yield (row, row.city_id, city)\n",
        "\n",
        "\n",
        "# На первом месте стоит id города, на втором - сам город или пользователь\n",
        "def RECORDREADER():\n",
        "    return [(user.city_id, user) for user in users_collection] + [\n",
        "        (city.id, city) for city in cities_collection\n",
        "    ]\n",
        "\n",
        "\n",
        "output = MapReduce(RECORDREADER, MAP_JOIN, REDUCE_JOIN)\n",
        "output = list(output)\n",
        "joined_data = output\n",
        "joined_data"
      ]
    },
    {
      "cell_type": "markdown",
      "metadata": {
        "id": "kYdlr0YUxE27"
      },
      "source": [
        "### Grouping and Aggregation (Группировка и аггрегация)\n",
        "\n",
        "**The Map Function:** Для каждого кортежа $(a, b, c$) создайте пару $(a, b)$.\n",
        "\n",
        "**The Reduce Function:** Ключ представляет ту или иную группу. Примение аггрегирующую операцию $\\theta$ к списку значений $[b1, b2, . . . , bn]$ ассоциированных с ключом $a$. Возвращайте в выходной поток $(a, x)$, где $x$ результат применения  $\\theta$ к списку. Например, если $\\theta$ это $SUM$, тогда $x = b1 + b2 + · · · + bn$, а если $\\theta$ is $MAX$, тогда $x$ это максимальное из значений $b1, b2, . . . , bn$."
      ]
    },
    {
      "cell_type": "code",
      "execution_count": 87,
      "metadata": {
        "id": "MLPckfEGxico"
      },
      "outputs": [
        {
          "data": {
            "text/plain": [
              "['city with id=1 has 1 user(s)',\n",
              " 'city with id=2 has 2 user(s)',\n",
              " 'city with id=3 has 1 user(s)',\n",
              " 'city with id=4 has 1 user(s)']"
            ]
          },
          "execution_count": 87,
          "metadata": {},
          "output_type": "execute_result"
        }
      ],
      "source": [
        "# Группировка по id города\n",
        "def MAP_GROUP(city_id, user, city):\n",
        "    yield (city_id, user)\n",
        "\n",
        "\n",
        "# Подсчет количества пользователей в каждом из городов\n",
        "def REDUCE_GROUP(city_id, rows):\n",
        "    yield f\"city with id={city_id} has {len(rows)} user(s)\"\n",
        "\n",
        "\n",
        "def RECORDREADER():\n",
        "    return [(city_id, user, city) for user, city_id, city in joined_data]\n",
        "\n",
        "\n",
        "output = MapReduce(RECORDREADER, MAP_GROUP, REDUCE_GROUP)\n",
        "output = list(output)\n",
        "output"
      ]
    },
    {
      "cell_type": "markdown",
      "metadata": {
        "id": "03IffTEOJgOb"
      },
      "source": [
        "# "
      ]
    },
    {
      "cell_type": "markdown",
      "metadata": {
        "id": "IIrRgvG4RIS4"
      },
      "source": [
        "### Matrix-Vector multiplication\n",
        "\n",
        "Случай, когда вектор не помещается в памяти Map задачи\n"
      ]
    },
    {
      "cell_type": "markdown",
      "metadata": {
        "id": "GIo2t7nNxvA9"
      },
      "source": [
        "## Matrix multiplication (Перемножение матриц)\n",
        "\n",
        "Если у нас есть матрица $M$ с элементами $m_{ij}$ в строке $i$ и столбце $j$, и матрица $N$ с элементами $n_{jk}$ в строке $j$ и столбце $k$, тогда их произведение $P = MN$ есть матрица $P$ с элементами $p_{ik}$ в строке $i$ и столбце $k$, где\n",
        "\n",
        "$$p_{ik} =\\sum_{j} m_{ij}n_{jk}$$\n",
        "\n",
        "Необходимым требованием является одинаковое количество столбцов в $M$ и строк в $N$, чтобы операция суммирования по  $j$ была осмысленной. Мы можем размышлять о матрице, как об отношении с тремя атрибутами: номер строки, номер столбца, само значение. Таким образом матрица $M$ предстваляется как отношение $ M(I, J, V )$, с кортежами $(i, j, m_{ij})$, и, аналогично, матрица $N$ представляется как отношение $N(J, K, W)$, с кортежами $(j, k, n_{jk})$. Так как большие матрицы как правило разреженные (большинство значений равно 0), и так как мы можем нулевыми значениями пренебречь (не хранить), такое реляционное представление достаточно эффективно для больших матриц. Однако, возможно, что координаты $i$, $j$, и $k$ неявно закодированы в смещение позиции элемента относительно начала файла, вместо явного хранения. Тогда, функция Map (или Reader) должна быть разработана таким образом, чтобы реконструировать компоненты $I$, $J$, и $K$ кортежей из смещения.\n",
        "\n",
        "Произведение $MN$ это фактически join, за которым следуют группировка по ключу и аггрегация. Таким образом join отношений $M(I, J, V )$ и $N(J, K, W)$, имеющих общим только атрибут $J$, создаст кортежи $(i, j, k, v, w)$ из каждого кортежа $(i, j, v) \\in M$ и кортежа $(j, k, w) \\in N$. Такой 5 компонентный кортеж представляет пару элементов матрицы $(m_{ij} , n_{jk})$. Что нам хотелось бы получить на самом деле, это произведение этих элементов, то есть, 4 компонентный кортеж$(i, j, k, v \\times w)$, так как он представляет произведение $m_{ij}n_{jk}$. Мы представляем отношение как результат одной MapReduce операции, в которой мы можем произвести группировку и аггрегацию, с $I$ и $K$  атрибутами, по которым идёт группировка, и суммой  $V \\times W$. \n",
        "\n",
        "\n",
        "\n"
      ]
    },
    {
      "cell_type": "markdown",
      "metadata": {},
      "source": [
        "Представленный ранее код MapReduce для наглядности"
      ]
    },
    {
      "cell_type": "code",
      "execution_count": 88,
      "metadata": {
        "id": "1MBkGaLAYVCt"
      },
      "outputs": [],
      "source": [
        "# MapReduce model\n",
        "def flatten(nested_iterable):\n",
        "    for iterable in nested_iterable:\n",
        "        for element in iterable:\n",
        "            yield element\n",
        "\n",
        "\n",
        "def groupbykey(iterable):\n",
        "    t = {}\n",
        "    for k2, v2 in iterable:\n",
        "        t[k2] = t.get(k2, []) + [v2]\n",
        "    return t.items()\n",
        "\n",
        "\n",
        "def MapReduce(RECORDREADER, MAP, REDUCE):\n",
        "    return flatten(\n",
        "        map(\n",
        "            lambda x: REDUCE(*x),\n",
        "            groupbykey(flatten(map(lambda x: MAP(*x), RECORDREADER()))),\n",
        "        )\n",
        "    )"
      ]
    },
    {
      "cell_type": "markdown",
      "metadata": {
        "id": "sMspsOT0ZB35"
      },
      "source": [
        "Реализуйте перемножение матриц с использованием модельного кода MapReduce для одной машины в случае, когда одна матрица хранится в памяти, а другая генерируется RECORDREADER-ом."
      ]
    },
    {
      "cell_type": "code",
      "execution_count": 89,
      "metadata": {
        "id": "psP1XekbsEjS"
      },
      "outputs": [],
      "source": [
        "import numpy as np\n",
        "\n",
        "I = 2\n",
        "J = 3\n",
        "K = 4 * 10\n",
        "small_mat = np.random.rand(\n",
        "    I, J\n",
        ")  # it is legal to access this from RECORDREADER, MAP, REDUCE\n",
        "big_mat = np.random.rand(J, K)\n",
        "\n",
        "\n",
        "# Генерирует элементы второй матрицы вместе с их индексами\n",
        "def RECORDREADER():\n",
        "    for j in range(big_mat.shape[0]):\n",
        "        for k in range(big_mat.shape[1]):\n",
        "            yield ((j, k), big_mat[j, k])\n",
        "\n",
        "\n",
        "# Использует сгенерированные элементы второй матрицы и возвращает\n",
        "# их произведения на соответствующие элементы первой матрицы.\n",
        "# Для каждого элемента N[j,k] генерируется J произведений на M[i,j]\n",
        "def MAP(k1, v1):\n",
        "    (j, k) = k1\n",
        "    w = v1\n",
        "\n",
        "    # solution code that yield(k2,v2) pairs\n",
        "    for i in range(I):\n",
        "        k2 = (i, k)\n",
        "        v2 = small_mat[i, j] * w\n",
        "        yield (k2, v2)\n",
        "\n",
        "\n",
        "# Суммирует полученные произведения для вычисления элементов результирующей матрицы\n",
        "def REDUCE(key, values):\n",
        "    (i, k) = key\n",
        "\n",
        "    # solution code that yield(k3,v3) pairs\n",
        "    k3 = (i, k)\n",
        "\n",
        "    v3 = 0\n",
        "    for j in range(J):\n",
        "        v3 += values[j]\n",
        "\n",
        "    yield (k3, v3)"
      ]
    },
    {
      "cell_type": "markdown",
      "metadata": {
        "id": "rnt306LHhHrm"
      },
      "source": [
        "Проверьте своё решение"
      ]
    },
    {
      "cell_type": "code",
      "execution_count": 90,
      "metadata": {
        "colab": {
          "base_uri": "https://localhost:8080/",
          "height": 34
        },
        "id": "Ewy_ZNYqW5a2",
        "outputId": "9ce264f2-9412-44e2-9b0a-cc780573ab3a"
      },
      "outputs": [
        {
          "data": {
            "text/plain": [
              "True"
            ]
          },
          "execution_count": 90,
          "metadata": {},
          "output_type": "execute_result"
        }
      ],
      "source": [
        "# CHECK THE SOLUTION\n",
        "reference_solution = np.matmul(small_mat, big_mat)\n",
        "solution = MapReduce(RECORDREADER, MAP, REDUCE)\n",
        "\n",
        "\n",
        "def asmatrix(reduce_output):\n",
        "    reduce_output = list(reduce_output)\n",
        "    I = max(i for ((i, k), vw) in reduce_output) + 1\n",
        "    K = max(k for ((i, k), vw) in reduce_output) + 1\n",
        "    mat = np.empty(shape=(I, K))\n",
        "    for (i, k), vw in reduce_output:\n",
        "        mat[i, k] = vw\n",
        "    return mat\n",
        "\n",
        "\n",
        "np.allclose(reference_solution, asmatrix(solution))  # should return true"
      ]
    },
    {
      "cell_type": "code",
      "execution_count": 91,
      "metadata": {
        "colab": {
          "base_uri": "https://localhost:8080/",
          "height": 34
        },
        "id": "TK7v4CEcfxqf",
        "outputId": "2c865d0a-4065-4e6b-c83f-5508ed5eb4fa"
      },
      "outputs": [
        {
          "data": {
            "text/plain": [
              "1"
            ]
          },
          "execution_count": 91,
          "metadata": {},
          "output_type": "execute_result"
        }
      ],
      "source": [
        "reduce_output = list(MapReduce(RECORDREADER, MAP, REDUCE))\n",
        "max(i for ((i, k), vw) in reduce_output)"
      ]
    },
    {
      "cell_type": "markdown",
      "metadata": {
        "id": "i4yyg3kOZqJJ"
      },
      "source": [
        "Реализуйте перемножение матриц  с использованием модельного кода MapReduce для одной машины в случае, когда обе матрицы генерируются в RECORDREADER. Например, сначала одна, а потом другая."
      ]
    },
    {
      "cell_type": "code",
      "execution_count": 92,
      "metadata": {
        "id": "3B7rIAJCaHZq"
      },
      "outputs": [],
      "source": [
        "I = 2\n",
        "J = 3\n",
        "K = 4 * 10\n",
        "small_mat = np.random.rand(I, J)\n",
        "big_mat = np.random.rand(J, K)\n",
        "\n",
        "\n",
        "# Генерирует пары элементов из обоих матриц вместе с соответствующими им индексами\n",
        "# Элементы в паре предназначены для перемножения и дальнейшего суммирования (M[i,j] и N[i,k])\n",
        "def RECORDREADER():\n",
        "    for i in range(I):\n",
        "        for j in range(J):\n",
        "            for k in range(K):\n",
        "                yield (((i, j), small_mat[i, j]), ((j, k), big_mat[j, k]))\n",
        "\n",
        "\n",
        "# Перемножает полученные элементы двух матриц\n",
        "# Группирует произведения по индексу, соответствующему клетке в результирующей матрице\n",
        "# Таким образом, для каждого ключа (i, k) генерируется J произведений\n",
        "def MAP(element1, element2):\n",
        "    (i, j), v1 = element1\n",
        "    (j, k), v2 = element2\n",
        "\n",
        "    yield ((i, k), v1 * v2)\n",
        "\n",
        "\n",
        "# Суммирует полученные произведения для вычисления элементов результирующей матрицы\n",
        "def REDUCE(key, values):\n",
        "    (i, k) = key\n",
        "\n",
        "    # solution code that yield(k3,v3) pairs\n",
        "    k3 = (i, k)\n",
        "\n",
        "    v3 = 0\n",
        "    for j in range(J):\n",
        "        v3 += values[j]\n",
        "\n",
        "    yield (k3, v3)"
      ]
    },
    {
      "cell_type": "markdown",
      "metadata": {},
      "source": [
        "Проверка решения"
      ]
    },
    {
      "cell_type": "code",
      "execution_count": 93,
      "metadata": {},
      "outputs": [
        {
          "data": {
            "text/plain": [
              "True"
            ]
          },
          "execution_count": 93,
          "metadata": {},
          "output_type": "execute_result"
        }
      ],
      "source": [
        "# CHECK THE SOLUTION\n",
        "reference_solution = np.matmul(small_mat, big_mat)\n",
        "solution = MapReduce(RECORDREADER, MAP, REDUCE)\n",
        "\n",
        "\n",
        "def asmatrix(reduce_output):\n",
        "    reduce_output = list(reduce_output)\n",
        "    I = max(i for ((i, k), vw) in reduce_output) + 1\n",
        "    K = max(k for ((i, k), vw) in reduce_output) + 1\n",
        "    mat = np.empty(shape=(I, K))\n",
        "    for (i, k), vw in reduce_output:\n",
        "        mat[i, k] = vw\n",
        "    return mat\n",
        "\n",
        "\n",
        "np.allclose(reference_solution, asmatrix(solution))  # should return true"
      ]
    },
    {
      "cell_type": "markdown",
      "metadata": {
        "id": "mXyzQi1DaIwo"
      },
      "source": [
        "Реализуйте перемножение матриц с использованием модельного кода MapReduce Distributed, когда каждая матрица генерируется в своём RECORDREADER. "
      ]
    },
    {
      "cell_type": "code",
      "execution_count": 94,
      "metadata": {
        "id": "TDM_s78Rb5eR"
      },
      "outputs": [
        {
          "name": "stdout",
          "output_type": "stream",
          "text": [
            "240 key-value pairs were sent over a network.\n",
            "[[0.25319977 1.18125354 0.90237901 1.00498342 0.46265433 1.03246214\n",
            "  0.85955337 0.79462329 0.42846329 0.42826748 0.97167032 0.69732081\n",
            "  0.9872058  1.20041221 0.77749769 0.78861158 0.41939602 1.04334869\n",
            "  0.94644844 0.91874584 0.32665564 0.60187034 1.11852324 0.59997708\n",
            "  0.71589833 0.46758557 0.9432099  0.46613929 0.90059563 0.34295497\n",
            "  0.44466319 0.18543271 1.15526465 0.75666089 0.35220205 1.07797183\n",
            "  0.79860139 0.50423639 0.73149463 0.43982244]\n",
            " [0.39368147 0.71047036 0.50191242 0.83473068 0.40578517 0.47723938\n",
            "  0.48474465 0.68332965 0.32472158 0.52498063 0.44258011 0.76659093\n",
            "  0.33973235 0.72439562 0.32665202 0.85501177 0.71610124 0.65041409\n",
            "  0.7039553  0.3349843  0.49033622 0.54468901 0.77303424 0.38960818\n",
            "  0.56273155 0.67348036 0.59867785 0.8028718  0.62493656 0.24857109\n",
            "  0.59377953 0.2420048  0.66067822 0.46088426 0.45754182 0.5654878\n",
            "  0.81445304 0.53323438 0.50740692 0.29002631]]\n"
          ]
        },
        {
          "data": {
            "text/plain": [
              "True"
            ]
          },
          "execution_count": 94,
          "metadata": {},
          "output_type": "execute_result"
        }
      ],
      "source": [
        "maps = 2\n",
        "reducers = 2\n",
        "\n",
        "\n",
        "def INPUTFORMAT():\n",
        "    global maps\n",
        "\n",
        "    # Так же, как и раньше, генерируются пары элементов из обоих матриц\n",
        "    def RECORDREADER(i_range):\n",
        "        for i in i_range:\n",
        "            for j in range(J):\n",
        "                for k in range(K):\n",
        "                    yield (((i, j), small_mat[i, j]), ((j, k), big_mat[j, k]))\n",
        "\n",
        "    # Разделение между вычислительными узлами происходит по строкам первой матрицы\n",
        "    split_size = int(np.ceil(I / maps))\n",
        "    for i in range(0, I, split_size):\n",
        "        yield RECORDREADER(range(i, i + split_size))\n",
        "\n",
        "\n",
        "# Возвращает произведения соответствующих элементов из обоих матриц, группируя их по индексу в результирующей матрице\n",
        "def MAP(element1, element2):\n",
        "    (i, j), v1 = element1\n",
        "    (j, k), v2 = element2\n",
        "\n",
        "    yield ((i, k), v1 * v2)\n",
        "\n",
        "\n",
        "# Суммирует полученные произведения\n",
        "def REDUCE(key, values):\n",
        "    (i, k) = key\n",
        "\n",
        "    # solution code that yield(k3,v3) pairs\n",
        "    k3 = (i, k)\n",
        "\n",
        "    v3 = 0\n",
        "    for j in range(J):\n",
        "        v3 += values[j]\n",
        "\n",
        "    yield (k3, v3)\n",
        "\n",
        "\n",
        "# try to set COMBINER=REDUCER and look at the number of values sent over the network\n",
        "partitioned_output = MapReduceDistributed(INPUTFORMAT, MAP, REDUCE, COMBINER=None)\n",
        "partitioned_output = [\n",
        "    (partition_id, list(partition)) for (partition_id, partition) in partitioned_output\n",
        "]\n",
        "\n",
        "# Соединение полученных произведений с разных вычислительных узлов\n",
        "solution = []\n",
        "for output_part in partitioned_output:\n",
        "    for element in output_part[1]:\n",
        "        solution += [element]\n",
        "\n",
        "print(asmatrix(solution))\n",
        "np.allclose(reference_solution, asmatrix(solution))  # should return true"
      ]
    },
    {
      "cell_type": "markdown",
      "metadata": {
        "id": "ZuSA2P9Db6UM"
      },
      "source": [
        "Обобщите предыдущее решение на случай, когда каждая матрица генерируется несколькими RECORDREADER-ами, и проверьте его работоспособность. Будет ли работать решение, если RECORDREADER-ы будут генерировать случайное подмножество элементов матрицы?"
      ]
    },
    {
      "cell_type": "markdown",
      "metadata": {},
      "source": [
        "Решение будет работать, так как каждая пара элементов, генерируемая RECORDREADER'ом, идентифицируется по ее индексам."
      ]
    }
  ],
  "metadata": {
    "colab": {
      "provenance": []
    },
    "kernelspec": {
      "display_name": "Python 3",
      "name": "python3"
    },
    "language_info": {
      "codemirror_mode": {
        "name": "ipython",
        "version": 3
      },
      "file_extension": ".py",
      "mimetype": "text/x-python",
      "name": "python",
      "nbconvert_exporter": "python",
      "pygments_lexer": "ipython3",
      "version": "3.11.4"
    }
  },
  "nbformat": 4,
  "nbformat_minor": 0
}
